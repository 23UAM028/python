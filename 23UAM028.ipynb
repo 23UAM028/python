{
  "nbformat": 4,
  "nbformat_minor": 0,
  "metadata": {
    "colab": {
      "provenance": []
    },
    "kernelspec": {
      "name": "python3",
      "display_name": "Python 3"
    },
    "language_info": {
      "name": "python"
    }
  },
  "cells": [
    {
      "cell_type": "code",
      "execution_count": 1,
      "metadata": {
        "colab": {
          "base_uri": "https://localhost:8080/"
        },
        "id": "POsZknAkczpu",
        "outputId": "c5dc5513-a946-4daf-daf1-e5f10b756e3d"
      },
      "outputs": [
        {
          "output_type": "stream",
          "name": "stdout",
          "text": [
            "Enter salary20000\n",
            "low Income\n"
          ]
        }
      ],
      "source": [
        "salary=int(input(\"Enter salary\"))\n",
        "if(salary>50000):print(\"High income\")\n",
        "elif(salary>=30000 and salary<=50000):print(\"Medium Income\")\n",
        "elif(salary<=30000):print(\"low Income\")"
      ]
    },
    {
      "cell_type": "code",
      "source": [
        "street_light=int(input(\"Enter Streetlight number\"))\n",
        "if((street_light%2==0)):\n",
        "  print(f\"Streetlight{street_light}will be turn on at night\")\n",
        "else:\n",
        "  print(f\"Streetlight{street_light}will be turn on at night\")"
      ],
      "metadata": {
        "colab": {
          "base_uri": "https://localhost:8080/"
        },
        "id": "1JAOz624eRd3",
        "outputId": "e2a35230-c4e0-41ed-b5e9-478bca5f425d"
      },
      "execution_count": 3,
      "outputs": [
        {
          "output_type": "stream",
          "name": "stdout",
          "text": [
            "Enter Streetlight number13\n",
            "Streetlight13will be turn on at night\n"
          ]
        }
      ]
    },
    {
      "cell_type": "markdown",
      "source": [],
      "metadata": {
        "id": "xwA7AN-Zh4Z-"
      }
    },
    {
      "cell_type": "code",
      "source": [
        "print(\"1. Check Balance\")\n",
        "print(\"2. Deposit Money\")\n",
        "print(\"3. Withdraw Money\")\n",
        "print(\"4. Exit the system\")\n",
        "\n",
        "Balance = 10000\n",
        "\n",
        "while True:\n",
        "    choice = int(input(\"Enter your choice: \"))\n",
        "\n",
        "    if choice == 1:\n",
        "        print(f\"Your account balance is: {Balance}\")\n",
        "\n",
        "    elif choice == 2:\n",
        "        bal = int(input(\"Enter money to deposit: \"))\n",
        "        Balance += bal\n",
        "        print(f\"Your current balance is: {Balance}\")\n",
        "\n",
        "    elif choice == 3:\n",
        "        wit = int(input(\"Enter money to withdraw: \"))\n",
        "        if wit > Balance:\n",
        "            print(\"Insufficient balance!\")\n",
        "        else:\n",
        "            Balance -= wit\n",
        "            print(f\"Your current balance is: {Balance}\")\n",
        "\n",
        "    elif choice == 4:\n",
        "        print(\"Exiting the system. Goodbye!\")\n",
        "        break\n",
        "\n",
        "    else:\n",
        "        print(\"Invalid choice. Please enter a valid option.\")\n"
      ],
      "metadata": {
        "colab": {
          "base_uri": "https://localhost:8080/"
        },
        "id": "KuPAGEyki8Fu",
        "outputId": "af3f28ae-da1c-4aeb-e11a-d7295497a17a"
      },
      "execution_count": 7,
      "outputs": [
        {
          "output_type": "stream",
          "name": "stdout",
          "text": [
            "1. Check Balance\n",
            "2. Deposit Money\n",
            "3. Withdraw Money\n",
            "4. Exit the system\n",
            "Enter your choice: 1\n",
            "Your account balance is: 10000\n",
            "Enter your choice: 2\n",
            "Enter money to deposit: 2000\n",
            "Your current balance is: 12000\n",
            "Enter your choice: 1000\n",
            "Invalid choice. Please enter a valid option.\n",
            "Enter your choice: 3\n",
            "Enter money to withdraw: 2000\n",
            "Your current balance is: 10000\n",
            "Enter your choice: 4\n",
            "Exiting the system. Goodbye!\n"
          ]
        }
      ]
    },
    {
      "cell_type": "code",
      "source": [
        "total_passengers = 0\n",
        "\n",
        "for stop in range(1, 6):\n",
        "    passengers = int(input(f\"Enter the number of passengers at stop {stop}: \"))\n",
        "    total_passengers += passengers\n",
        "\n",
        "print(f\"Total number of passengers at the end: {total_passengers}\")\n"
      ],
      "metadata": {
        "colab": {
          "base_uri": "https://localhost:8080/"
        },
        "id": "K74JBL7NlwNG",
        "outputId": "3527188d-025e-463d-e785-ddafffb67e82"
      },
      "execution_count": 9,
      "outputs": [
        {
          "output_type": "stream",
          "name": "stdout",
          "text": [
            "Enter the number of passengers at stop 1: 1\n",
            "Enter the number of passengers at stop 2: 2\n",
            "Enter the number of passengers at stop 3: 3\n",
            "Enter the number of passengers at stop 4: 4\n",
            "Enter the number of passengers at stop 5: 5\n",
            "Total number of passengers at the end: 15\n"
          ]
        }
      ]
    },
    {
      "cell_type": "code",
      "source": [
        "correct_pin = 1234\n",
        "attempts = 0\n",
        "\n",
        "while attempts < 3:\n",
        "    entered_pin = int(input(\"Enter your ATM PIN: \"))\n",
        "\n",
        "    if entered_pin == correct_pin:\n",
        "        print(\"Access granted! Welcome.\")\n",
        "        break\n",
        "    else:\n",
        "        attempts += 1\n",
        "        remaining_attempts = 3 - attempts\n",
        "        if remaining_attempts > 0:\n",
        "            print(f\"Incorrect PIN. You have {remaining_attempts} attempts left.\")\n",
        "        else:\n",
        "            print(\"Incorrect PIN. Your card is blocked.\")\n",
        "\n"
      ],
      "metadata": {
        "colab": {
          "base_uri": "https://localhost:8080/"
        },
        "id": "P8AfXJ0Nou8Z",
        "outputId": "d8dc32b7-d954-4e36-f911-d8a711e9af84"
      },
      "execution_count": 11,
      "outputs": [
        {
          "output_type": "stream",
          "name": "stdout",
          "text": [
            "Enter your ATM PIN: 1234\n",
            "Access granted! Welcome.\n"
          ]
        }
      ]
    },
    {
      "cell_type": "code",
      "source": [
        "num = int(input(\"Enter a number: \"))\n",
        "reversed_num = int(str(num)[::-1])\n",
        "print(f\"Reversed number: {reversed_num}\")\n"
      ],
      "metadata": {
        "colab": {
          "base_uri": "https://localhost:8080/"
        },
        "id": "qC36HSSJprmW",
        "outputId": "de81e6d5-7562-4f90-f7fc-c45d5b639c10"
      },
      "execution_count": 12,
      "outputs": [
        {
          "output_type": "stream",
          "name": "stdout",
          "text": [
            "Enter a number: 123456\n",
            "Reversed number: 654321\n"
          ]
        }
      ]
    },
    {
      "cell_type": "code",
      "source": [
        "def shopping_cart():\n",
        "    cart = []\n",
        "\n",
        "    while True:\n",
        "        item = input(\"Enter an item to add to the cart (or type 'done' to finish): \").strip()\n",
        "        if item.lower() == \"done\":\n",
        "            break\n",
        "        cart.append(item)\n",
        "\n",
        "    print(\"\\nShopping Cart Items:\")\n",
        "    for idx, item in enumerate(cart, start=1):\n",
        "        print(f\"{idx}. {item}\")\n",
        "\n",
        "\n",
        "shopping_cart()\n",
        "\n"
      ],
      "metadata": {
        "colab": {
          "base_uri": "https://localhost:8080/"
        },
        "id": "sailJOwRqezF",
        "outputId": "71df82a9-d14b-4f46-bac7-6a68c4fe39d2"
      },
      "execution_count": 14,
      "outputs": [
        {
          "output_type": "stream",
          "name": "stdout",
          "text": [
            "Enter an item to add to the cart (or type 'done' to finish): apple\n",
            "Enter an item to add to the cart (or type 'done' to finish): milk\n",
            "Enter an item to add to the cart (or type 'done' to finish): done\n",
            "\n",
            "Shopping Cart Items:\n",
            "1. apple\n",
            "2. milk\n"
          ]
        }
      ]
    },
    {
      "cell_type": "code",
      "source": [
        "def atm_cash_dispense(amount):\n",
        "    if amount % 500 != 0:\n",
        "        print(\"Invalid amount! Please enter an amount that is a multiple of 500.\")\n",
        "        return\n",
        "\n",
        "    notes_2000 = amount\n",
        "    remaining_amount = amount % 2000\n",
        "    notes_500 = remaining_amount\n",
        "    print(f\"\\nCash Dispensed:\")\n",
        "    print(f\"₹2000 notes: {notes_2000}\")\n",
        "    print(f\"₹500 notes: {notes_500}\")\n",
        "\n",
        "# User input\n",
        "amount = int(input(\"Enter the amount to withdraw (multiple of 500): \"))\n",
        "atm_cash_dispense(amount)\n"
      ],
      "metadata": {
        "colab": {
          "base_uri": "https://localhost:8080/"
        },
        "id": "5LkTBFsssUK-",
        "outputId": "d77b95f2-086e-4cf8-fac7-8bb44fee71cc"
      },
      "execution_count": 15,
      "outputs": [
        {
          "output_type": "stream",
          "name": "stdout",
          "text": [
            "Enter the amount to withdraw (multiple of 500): 1200\n",
            "Invalid amount! Please enter an amount that is a multiple of 500.\n"
          ]
        }
      ]
    },
    {
      "cell_type": "code",
      "source": [
        "def student_grades():\n",
        "    grades = tuple(map(int, input(\"Enter 5 grades separated by spaces: \").split()))\n",
        "\n",
        "    if len(grades) != 5:\n",
        "        print(\"Please enter exactly 5 grades.\")\n",
        "        return\n",
        "\n",
        "    highest = max(grades)\n",
        "    lowest = min(grades)\n",
        "    average = sum(grades) / len(grades)\n",
        "\n",
        "    print(f\"Highest Grade: {highest}\")\n",
        "    print(f\"Lowest Grade: {lowest}\")\n",
        "    print(f\"Average Grade: {average:.2f}\")\n",
        "\n",
        "# Run the function\n",
        "student_grades()\n"
      ],
      "metadata": {
        "colab": {
          "base_uri": "https://localhost:8080/"
        },
        "id": "aFZkYMZ_tl4W",
        "outputId": "9f8c87a4-97f9-4563-9405-a5abc74bd943"
      },
      "execution_count": 16,
      "outputs": [
        {
          "output_type": "stream",
          "name": "stdout",
          "text": [
            "Enter 5 grades separated by spaces: 80 85 82 90 86\n",
            "Highest Grade: 90\n",
            "Lowest Grade: 80\n",
            "Average Grade: 84.60\n"
          ]
        }
      ]
    }
  ]
}